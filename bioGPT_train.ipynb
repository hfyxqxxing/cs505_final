{
  "cells": [
    {
      "cell_type": "code",
      "execution_count": 1,
      "metadata": {
        "colab": {
          "base_uri": "https://localhost:8080/"
        },
        "id": "vTW6uwnuKlGG",
        "outputId": "9a9c8bbd-1589-48dd-ab7d-fe8f584a3547"
      },
      "outputs": [],
      "source": [
        "import os\n",
        "import time\n",
        "import datetime\n",
        "# from google.colab import drive\n",
        "\n",
        "import pandas as pd\n",
        "import seaborn as sns\n",
        "import numpy as np\n",
        "import random\n",
        "\n",
        "import matplotlib.pyplot as plt\n",
        "\n",
        "import torch\n",
        "from torch.utils.data import Dataset, DataLoader, random_split, RandomSampler, SequentialSampler\n",
        "\n",
        "from transformers import GPT2LMHeadModel,  GPT2Tokenizer, GPT2Config, GPT2LMHeadModel\n",
        "from transformers import AdamW, get_linear_schedule_with_warmup\n",
        "\n"
      ]
    },
    {
      "cell_type": "markdown",
      "metadata": {
        "id": "E6kvZoBmO4Jb"
      },
      "source": [
        "##Exploration"
      ]
    },
    {
      "cell_type": "code",
      "execution_count": 2,
      "metadata": {
        "id": "lr_ofvAoKrBo"
      },
      "outputs": [],
      "source": [
        "from datasets import load_dataset\n",
        "import torch\n",
        "from tqdm import tqdm\n",
        "\n",
        "wiki = load_dataset(\"wikitext\", \"wikitext-2-raw-v1\")"
      ]
    },
    {
      "cell_type": "code",
      "execution_count": 3,
      "metadata": {
        "id": "_m29wFMHLs5n"
      },
      "outputs": [],
      "source": [
        "train = wiki['train']['text']\n",
        "test = wiki['test']['text']\n",
        "val = wiki['validation']['text']"
      ]
    },
    {
      "cell_type": "markdown",
      "metadata": {
        "id": "MiDbwjISjbJm"
      },
      "source": [
        "#Data preprocess"
      ]
    },
    {
      "cell_type": "code",
      "execution_count": 5,
      "metadata": {
        "id": "mJ6qOVc-XLKu"
      },
      "outputs": [],
      "source": [
        "import re\n",
        "def PreprocessTitle(dataset):\n",
        "    filter_set = list(filter(lambda element: element != '', dataset))\n",
        "    title_position = 0\n",
        "    dealt_set = []\n",
        "    title_content = \"\"\n",
        "    for i,j in enumerate(filter_set):\n",
        "        pattern_s = re.compile(r'@\\W@')\n",
        "        s_flag = pattern_s.search(j)\n",
        "        if s_flag:\n",
        "          filter_set[i] = re.sub(r' @(\\W)@ ',r'\\1',filter_set[i])\n",
        "        pattern = re.compile(r'^ = .+ = \\n$')\n",
        "        result = pattern.match(j)\n",
        "        if result:\n",
        "            final_string = \"\"\n",
        "            for k in range(title_position,i):\n",
        "                if k == title_position:\n",
        "                    pattern2 = re.compile(r'^ = = .+ = = \\n$')\n",
        "                    result2 = pattern2.match(filter_set[k])\n",
        "                    if result2:\n",
        "                        temp = re.sub(r' (\\w)', f'{title_content}\\\\1', filter_set[k],count=1)\n",
        "                        temp = re.sub(r'\\n$', ':', temp)\n",
        "                        # Remove =\n",
        "                        # temp = re.sub(r' (\\w)', f'{title_content}\\\\1', filter_set[k],count=1)\n",
        "                        # temp = re.sub(r'\\n$', '', temp)\n",
        "                        # temp = \" \"+ temp.strip(' =')+ \" \"\n",
        "                        # temp = temp + \": \"\n",
        "                    else:\n",
        "                \n",
        "                        temp = re.sub(r'\\n$', ':', filter_set[k])\n",
        "                        title_content = re.sub(r'^ = ', ' ', temp)\n",
        "                        title_content = re.sub(r' = :$', ' : ', title_content)\n",
        "                        # Remove =\n",
        "                        # temp = re.sub(r'\\n$', '', filter_set[k])\n",
        "                        # temp = \" \"+ temp.strip(' =')+ \" \"\n",
        "                        # temp = temp + \": \"\n",
        "                        # title_content = temp\n",
        "                        # temp = re.sub(r': $', ':', temp)\n",
        "                    final_string = final_string + temp\n",
        "                else:\n",
        "                    temp = re.sub(r'\\n$', '', filter_set[k])  \n",
        "                    final_string = final_string + temp\n",
        "            pattern_empty = re.compile(r':$')\n",
        "            flag = pattern_empty.search(final_string)\n",
        "            if flag:\n",
        "              pass\n",
        "            else:\n",
        "              dealt_set.append(final_string)\n",
        "            title_position = i\n",
        "\n",
        "    dealt_set = [s for s in dealt_set if s.strip() != \"\"] \n",
        "    return dealt_set"
      ]
    },
    {
      "cell_type": "code",
      "execution_count": 6,
      "metadata": {
        "colab": {
          "base_uri": "https://localhost:8080/"
        },
        "id": "2viorT1BXNhE",
        "outputId": "b1ae9543-f9d7-47ff-e0df-b74ee8d5cc25"
      },
      "outputs": [],
      "source": [
        "dealt_train = PreprocessTitle(train)\n",
        "dealt_test = PreprocessTitle(test)\n",
        "dealt_val = PreprocessTitle(val)\n",
        "# for i in dealt_train[:25]:\n",
        "#   print(i[:100])"
      ]
    },
    {
      "cell_type": "code",
      "execution_count": 7,
      "metadata": {
        "id": "OB-tOIFDGIb0"
      },
      "outputs": [],
      "source": [
        "from transformers import AutoTokenizer, BioGptForCausalLM"
      ]
    },
    {
      "cell_type": "markdown",
      "metadata": {
        "id": "SwDLuJuqR1Hv"
      },
      "source": [
        "Parameters"
      ]
    },
    {
      "cell_type": "code",
      "execution_count": 8,
      "metadata": {
        "id": "W_7itfhWR4kb"
      },
      "outputs": [],
      "source": [
        "batch_size = 1"
      ]
    },
    {
      "cell_type": "code",
      "execution_count": 9,
      "metadata": {
        "id": "kcgSunBpQJMr"
      },
      "outputs": [],
      "source": [
        "tokenizer = AutoTokenizer.from_pretrained(\"microsoft/biogpt\", bos_token='<|startoftext|>', eos_token='<|endoftext|>', pad_token='<|pad|>')"
      ]
    },
    {
      "cell_type": "code",
      "execution_count": 10,
      "metadata": {
        "colab": {
          "base_uri": "https://localhost:8080/"
        },
        "id": "CfA6UJB6QKs7",
        "outputId": "4b349602-2e18-4e05-c292-f1b5b3a39093"
      },
      "outputs": [],
      "source": [
        "# print(\"The max model length is {} for this model, although the actual embedding size for GPT small is 768\".format(tokenizer.model_max_length))\n",
        "# print(\"The beginning of sequence token {} token has the id {}\".format(tokenizer.convert_ids_to_tokens(tokenizer.bos_token_id), tokenizer.bos_token_id))\n",
        "# print(\"The end of sequence token {} has the id {}\".format(tokenizer.convert_ids_to_tokens(tokenizer.eos_token_id), tokenizer.eos_token_id))\n",
        "# print(\"The padding token {} has the id {}\".format(tokenizer.convert_ids_to_tokens(tokenizer.pad_token_id), tokenizer.pad_token_id))"
      ]
    },
    {
      "cell_type": "code",
      "execution_count": 11,
      "metadata": {
        "id": "xWpl8EBFRzFE"
      },
      "outputs": [],
      "source": [
        "class BioDataset(Dataset):\n",
        "\n",
        "  def __init__(self, txt_list, tokenizer, max_length=200):\n",
        "\n",
        "    self.tokenizer = tokenizer\n",
        "    self.input_ids = []\n",
        "    self.attn_masks = []\n",
        "\n",
        "    for txt in txt_list:\n",
        "\n",
        "      encodings_dict = tokenizer('<|startoftext|>'+ txt + '<|endoftext|>', truncation=True, max_length=max_length, padding=\"max_length\")\n",
        "\n",
        "      self.input_ids.append(torch.tensor(encodings_dict['input_ids']))\n",
        "      self.attn_masks.append(torch.tensor(encodings_dict['attention_mask']))\n",
        "\n",
        "  def __len__(self):\n",
        "    return len(self.input_ids)\n",
        "\n",
        "  def __getitem__(self, idx):\n",
        "    return self.input_ids[idx], self.attn_masks[idx]"
      ]
    },
    {
      "cell_type": "code",
      "execution_count": 12,
      "metadata": {
        "id": "OVDznx7VSN0X"
      },
      "outputs": [],
      "source": [
        "train_dataset = BioDataset(dealt_train, tokenizer, max_length=500)\n",
        "test_dataset = BioDataset(dealt_test, tokenizer, max_length=500)\n",
        "val_dataset = BioDataset(dealt_val, tokenizer, max_length=500)"
      ]
    },
    {
      "cell_type": "code",
      "execution_count": 13,
      "metadata": {
        "id": "LFr-a8Whb2MO"
      },
      "outputs": [],
      "source": [
        "train_dataloader = DataLoader(\n",
        "            train_dataset,  # The training samples.\n",
        "            sampler = RandomSampler(train_dataset), # Select batches randomly\n",
        "            batch_size = batch_size # Trains with this batch size.\n",
        "        )\n",
        "validation_dataloader = DataLoader(\n",
        "            val_dataset, # The validation samples.\n",
        "            sampler = SequentialSampler(val_dataset), # Pull out batches sequentially.\n",
        "            batch_size = batch_size # Evaluate with this batch size.\n",
        "        )"
      ]
    },
    {
      "cell_type": "code",
      "execution_count": 14,
      "metadata": {
        "colab": {
          "base_uri": "https://localhost:8080/",
          "height": 463,
          "referenced_widgets": [
            "9ca38f357aaf4df885ba20a91230db01",
            "4e3190e437724399b3a309c38912f9fc",
            "6b7f9a0b506f4e7995b29c903d4b328d",
            "41ac776f86744347a19e1d2f8dcd9d04",
            "1361aad217e14124a4a8ab597306ef74",
            "68384aad07c94864a5ff5ef7d1f5b35b",
            "8de0fab37a9946fca1d7c513ea8e6824",
            "212a489e9b2c4e5d91da559c04f05967",
            "04dfd067ee0642a9bcbf1f9f7ce708d5",
            "be81af148daa4112899a767306acfeb1",
            "c0a9df8bda134e3e96ad8624f6e0018d"
          ]
        },
        "id": "AZlcZfJagD2t",
        "outputId": "1e402d57-fe1a-497c-d579-0fe3ee76f267"
      },
      "outputs": [
        {
          "data": {
            "text/plain": [
              "BioGptForCausalLM(\n",
              "  (biogpt): BioGptModel(\n",
              "    (embed_tokens): Embedding(42387, 1024)\n",
              "    (embed_positions): BioGptLearnedPositionalEmbedding(1026, 1024)\n",
              "    (layers): ModuleList(\n",
              "      (0-23): 24 x BioGptDecoderLayer(\n",
              "        (self_attn): BioGptAttention(\n",
              "          (k_proj): Linear(in_features=1024, out_features=1024, bias=True)\n",
              "          (v_proj): Linear(in_features=1024, out_features=1024, bias=True)\n",
              "          (q_proj): Linear(in_features=1024, out_features=1024, bias=True)\n",
              "          (out_proj): Linear(in_features=1024, out_features=1024, bias=True)\n",
              "        )\n",
              "        (activation_fn): GELUActivation()\n",
              "        (self_attn_layer_norm): LayerNorm((1024,), eps=1e-05, elementwise_affine=True)\n",
              "        (fc1): Linear(in_features=1024, out_features=4096, bias=True)\n",
              "        (fc2): Linear(in_features=4096, out_features=1024, bias=True)\n",
              "        (final_layer_norm): LayerNorm((1024,), eps=1e-05, elementwise_affine=True)\n",
              "      )\n",
              "    )\n",
              "    (layer_norm): LayerNorm((1024,), eps=1e-05, elementwise_affine=True)\n",
              "  )\n",
              "  (output_projection): Linear(in_features=1024, out_features=42387, bias=False)\n",
              ")"
            ]
          },
          "execution_count": 14,
          "metadata": {},
          "output_type": "execute_result"
        }
      ],
      "source": [
        "model = BioGptForCausalLM.from_pretrained(\"microsoft/biogpt\")\n",
        "model.resize_token_embeddings(len(tokenizer))\n",
        "\n",
        "device = torch.device(\"cuda\")\n",
        "model.cuda()"
      ]
    },
    {
      "cell_type": "code",
      "execution_count": 15,
      "metadata": {
        "id": "DbYTPREQg5_i"
      },
      "outputs": [],
      "source": [
        "epochs = 5\n",
        "learning_rate = 5e-4\n",
        "warmup_steps = 1e2\n",
        "epsilon = 1e-8\n",
        "\n",
        "# this produces sample output every 100 steps\n",
        "sample_every = 100"
      ]
    },
    {
      "cell_type": "code",
      "execution_count": 16,
      "metadata": {
        "colab": {
          "base_uri": "https://localhost:8080/"
        },
        "id": "Xn7tnk9KhIe2",
        "outputId": "d3b1a124-1d7e-4a0f-fc90-b0d7e0b320fb"
      },
      "outputs": [
        {
          "name": "stderr",
          "output_type": "stream",
          "text": [
            "c:\\Users\\xiao\\AppData\\Local\\Programs\\Python\\Python310\\lib\\site-packages\\transformers\\optimization.py:429: FutureWarning: This implementation of AdamW is deprecated and will be removed in a future version. Use the PyTorch implementation torch.optim.AdamW instead, or set `no_deprecation_warning=True` to disable this warning\n",
            "  warnings.warn(\n"
          ]
        }
      ],
      "source": [
        "optimizer = AdamW(model.parameters(),\n",
        "                  lr = learning_rate,\n",
        "                  eps = epsilon\n",
        "                )"
      ]
    },
    {
      "cell_type": "code",
      "execution_count": 17,
      "metadata": {
        "id": "BIwxqE2Ni3zf"
      },
      "outputs": [],
      "source": [
        "# Total number of training steps is [number of batches] x [number of epochs].\n",
        "# (Note that this is not the same as the number of training samples).\n",
        "total_steps = len(train_dataloader) * epochs\n",
        "\n",
        "# Create the learning rate scheduler.\n",
        "# This changes the learning rate as the training loop progresses\n",
        "scheduler = get_linear_schedule_with_warmup(optimizer,\n",
        "                                            num_warmup_steps = warmup_steps,\n",
        "                                            num_training_steps = total_steps)"
      ]
    },
    {
      "cell_type": "code",
      "execution_count": 18,
      "metadata": {
        "id": "1hlzPuHBnHNY"
      },
      "outputs": [],
      "source": [
        "def format_time(elapsed):\n",
        "    return str(datetime.timedelta(seconds=int(round((elapsed)))))"
      ]
    },
    {
      "cell_type": "code",
      "execution_count": 19,
      "metadata": {},
      "outputs": [
        {
          "name": "stdout",
          "output_type": "stream",
          "text": [
            "5514\n"
          ]
        }
      ],
      "source": [
        "print(len(train_dataloader))"
      ]
    },
    {
      "cell_type": "code",
      "execution_count": 20,
      "metadata": {
        "colab": {
          "base_uri": "https://localhost:8080/"
        },
        "id": "Fw6g8QKOnBtC",
        "outputId": "2190b6ff-bf83-4f34-da14-1491ef3abd31"
      },
      "outputs": [
        {
          "name": "stdout",
          "output_type": "stream",
          "text": [
            "\n",
            "======== Epoch 1 / 5 ========\n",
            "Training...\n"
          ]
        },
        {
          "name": "stderr",
          "output_type": "stream",
          "text": [
            "5514it [23:41,  3.88it/s]\n"
          ]
        },
        {
          "name": "stdout",
          "output_type": "stream",
          "text": [
            "\n",
            "  Average training loss: 3.28\n",
            "  Training epoch took: 0:23:41\n",
            "\n",
            "Running Validation...\n",
            "  Validation Loss: 3.25\n",
            "  Validation took: 0:00:33\n",
            "\n",
            "======== Epoch 2 / 5 ========\n",
            "Training...\n"
          ]
        },
        {
          "name": "stderr",
          "output_type": "stream",
          "text": [
            "5514it [23:52,  3.85it/s]\n"
          ]
        },
        {
          "name": "stdout",
          "output_type": "stream",
          "text": [
            "\n",
            "  Average training loss: 2.76\n",
            "  Training epoch took: 0:23:52\n",
            "\n",
            "Running Validation...\n",
            "  Validation Loss: 3.01\n",
            "  Validation took: 0:00:32\n",
            "\n",
            "======== Epoch 3 / 5 ========\n",
            "Training...\n"
          ]
        },
        {
          "name": "stderr",
          "output_type": "stream",
          "text": [
            "5514it [23:07,  3.97it/s]\n"
          ]
        },
        {
          "name": "stdout",
          "output_type": "stream",
          "text": [
            "\n",
            "  Average training loss: 2.28\n",
            "  Training epoch took: 0:23:08\n",
            "\n",
            "Running Validation...\n",
            "  Validation Loss: 2.94\n",
            "  Validation took: 0:00:34\n",
            "\n",
            "======== Epoch 4 / 5 ========\n",
            "Training...\n"
          ]
        },
        {
          "name": "stderr",
          "output_type": "stream",
          "text": [
            "5514it [23:46,  3.87it/s]\n"
          ]
        },
        {
          "name": "stdout",
          "output_type": "stream",
          "text": [
            "\n",
            "  Average training loss: 1.71\n",
            "  Training epoch took: 0:23:46\n",
            "\n",
            "Running Validation...\n",
            "  Validation Loss: 3.09\n",
            "  Validation took: 0:00:32\n",
            "\n",
            "======== Epoch 5 / 5 ========\n",
            "Training...\n"
          ]
        },
        {
          "name": "stderr",
          "output_type": "stream",
          "text": [
            "5514it [23:50,  3.85it/s]\n"
          ]
        },
        {
          "name": "stdout",
          "output_type": "stream",
          "text": [
            "\n",
            "  Average training loss: 1.06\n",
            "  Training epoch took: 0:23:50\n",
            "\n",
            "Running Validation...\n",
            "  Validation Loss: 3.57\n",
            "  Validation took: 0:00:33\n",
            "\n",
            "Training complete!\n",
            "Total training took 2:01:02 (h:mm:ss)\n"
          ]
        }
      ],
      "source": [
        "total_t0 = time.time()\n",
        "\n",
        "training_stats = []\n",
        "\n",
        "model = model.to(device)\n",
        "\n",
        "for epoch_i in range(0, epochs):\n",
        "\n",
        "    # ========================================\n",
        "    #               Training\n",
        "    # ========================================\n",
        "\n",
        "    print(\"\")\n",
        "    print('======== Epoch {:} / {:} ========'.format(epoch_i + 1, epochs))\n",
        "    print('Training...')\n",
        "\n",
        "    t0 = time.time()\n",
        "\n",
        "    total_train_loss = 0\n",
        "\n",
        "    model.train()\n",
        "\n",
        "    for step, batch in tqdm(enumerate(train_dataloader)):\n",
        "        b_input_ids = batch[0].to(device)\n",
        "        b_labels = batch[0].to(device)\n",
        "        b_masks = batch[1].to(device)\n",
        "\n",
        "        model.zero_grad()\n",
        "\n",
        "        outputs = model(  b_input_ids,\n",
        "                          labels=b_labels,\n",
        "                          attention_mask = b_masks\n",
        "                        )\n",
        "\n",
        "        loss = outputs[0]\n",
        "\n",
        "        batch_loss = loss.item()\n",
        "        total_train_loss += batch_loss\n",
        "\n",
        "        loss.backward()\n",
        "\n",
        "        optimizer.step()\n",
        "\n",
        "        scheduler.step()\n",
        "\n",
        "    avg_train_loss = total_train_loss / len(train_dataloader)\n",
        "\n",
        "    training_time = format_time(time.time() - t0)\n",
        "\n",
        "    print(\"\")\n",
        "    print(\"  Average training loss: {0:.2f}\".format(avg_train_loss))\n",
        "    print(\"  Training epoch took: {:}\".format(training_time))\n",
        "\n",
        "    # ========================================\n",
        "    #               Validation\n",
        "    # ========================================\n",
        "\n",
        "    print(\"\")\n",
        "    print(\"Running Validation...\")\n",
        "\n",
        "    t0 = time.time()\n",
        "\n",
        "    model.eval()\n",
        "\n",
        "    total_eval_loss = 0\n",
        "    nb_eval_steps = 0\n",
        "\n",
        "    # Evaluate data for one epoch\n",
        "    for batch in validation_dataloader:\n",
        "\n",
        "        b_input_ids = batch[0].to(device)\n",
        "        b_labels = batch[0].to(device)\n",
        "        b_masks = batch[1].to(device)\n",
        "\n",
        "        with torch.no_grad():\n",
        "\n",
        "            outputs  = model(b_input_ids,\n",
        "                             attention_mask = b_masks,\n",
        "                            labels=b_labels)\n",
        "\n",
        "            loss = outputs[0]\n",
        "\n",
        "        batch_loss = loss.item()\n",
        "        total_eval_loss += batch_loss\n",
        "\n",
        "    avg_val_loss = total_eval_loss / len(validation_dataloader)\n",
        "\n",
        "    validation_time = format_time(time.time() - t0)\n",
        "\n",
        "    print(\"  Validation Loss: {0:.2f}\".format(avg_val_loss))\n",
        "    print(\"  Validation took: {:}\".format(validation_time))\n",
        "\n",
        "    # Record all statistics from this epoch.\n",
        "    training_stats.append(\n",
        "        {\n",
        "            'epoch': epoch_i + 1,\n",
        "            'Training Loss': avg_train_loss,\n",
        "            'Valid. Loss': avg_val_loss,\n",
        "            'Training Time': training_time,\n",
        "            'Validation Time': validation_time\n",
        "        }\n",
        "    )\n",
        "\n",
        "print(\"\")\n",
        "print(\"Training complete!\")\n",
        "print(\"Total training took {:} (h:mm:ss)\".format(format_time(time.time()-total_t0)))"
      ]
    },
    {
      "cell_type": "markdown",
      "metadata": {
        "id": "VQTvJ1vRP7u4"
      },
      "source": [
        "Let's view the summary of the training process."
      ]
    },
    {
      "cell_type": "code",
      "execution_count": 21,
      "metadata": {
        "colab": {
          "base_uri": "https://localhost:8080/",
          "height": 237
        },
        "id": "6O_NbXFGMukX",
        "outputId": "4260d750-74eb-49dc-ef99-137d04cec982"
      },
      "outputs": [
        {
          "data": {
            "text/html": [
              "<div>\n",
              "<style scoped>\n",
              "    .dataframe tbody tr th:only-of-type {\n",
              "        vertical-align: middle;\n",
              "    }\n",
              "\n",
              "    .dataframe tbody tr th {\n",
              "        vertical-align: top;\n",
              "    }\n",
              "\n",
              "    .dataframe thead th {\n",
              "        text-align: right;\n",
              "    }\n",
              "</style>\n",
              "<table border=\"1\" class=\"dataframe\">\n",
              "  <thead>\n",
              "    <tr style=\"text-align: right;\">\n",
              "      <th></th>\n",
              "      <th>Training Loss</th>\n",
              "      <th>Valid. Loss</th>\n",
              "      <th>Training Time</th>\n",
              "      <th>Validation Time</th>\n",
              "    </tr>\n",
              "    <tr>\n",
              "      <th>epoch</th>\n",
              "      <th></th>\n",
              "      <th></th>\n",
              "      <th></th>\n",
              "      <th></th>\n",
              "    </tr>\n",
              "  </thead>\n",
              "  <tbody>\n",
              "    <tr>\n",
              "      <th>1</th>\n",
              "      <td>3.28</td>\n",
              "      <td>3.25</td>\n",
              "      <td>0:23:41</td>\n",
              "      <td>0:00:33</td>\n",
              "    </tr>\n",
              "    <tr>\n",
              "      <th>2</th>\n",
              "      <td>2.76</td>\n",
              "      <td>3.01</td>\n",
              "      <td>0:23:52</td>\n",
              "      <td>0:00:32</td>\n",
              "    </tr>\n",
              "    <tr>\n",
              "      <th>3</th>\n",
              "      <td>2.28</td>\n",
              "      <td>2.94</td>\n",
              "      <td>0:23:08</td>\n",
              "      <td>0:00:34</td>\n",
              "    </tr>\n",
              "    <tr>\n",
              "      <th>4</th>\n",
              "      <td>1.71</td>\n",
              "      <td>3.09</td>\n",
              "      <td>0:23:46</td>\n",
              "      <td>0:00:32</td>\n",
              "    </tr>\n",
              "    <tr>\n",
              "      <th>5</th>\n",
              "      <td>1.06</td>\n",
              "      <td>3.57</td>\n",
              "      <td>0:23:50</td>\n",
              "      <td>0:00:33</td>\n",
              "    </tr>\n",
              "  </tbody>\n",
              "</table>\n",
              "</div>"
            ],
            "text/plain": [
              "       Training Loss  Valid. Loss Training Time Validation Time\n",
              "epoch                                                          \n",
              "1               3.28         3.25       0:23:41         0:00:33\n",
              "2               2.76         3.01       0:23:52         0:00:32\n",
              "3               2.28         2.94       0:23:08         0:00:34\n",
              "4               1.71         3.09       0:23:46         0:00:32\n",
              "5               1.06         3.57       0:23:50         0:00:33"
            ]
          },
          "execution_count": 21,
          "metadata": {},
          "output_type": "execute_result"
        }
      ],
      "source": [
        "# Display floats with two decimal places.\n",
        "pd.set_option('display.precision', 2)\n",
        "\n",
        "# Create a DataFrame from our training statistics.\n",
        "df_stats = pd.DataFrame(data=training_stats)\n",
        "\n",
        "# Use the 'epoch' as the row index.\n",
        "df_stats = df_stats.set_index('epoch')\n",
        "\n",
        "# A hack to force the column headers to wrap.\n",
        "#df = df.style.set_table_styles([dict(selector=\"th\",props=[('max-width', '70px')])])\n",
        "\n",
        "# Display the table.\n",
        "df_stats"
      ]
    },
    {
      "cell_type": "code",
      "execution_count": 22,
      "metadata": {
        "colab": {
          "base_uri": "https://localhost:8080/",
          "height": 592
        },
        "id": "68xreA9JAmG5",
        "outputId": "6946cd0e-4114-4912-9c67-8e7fd08cd44e"
      },
      "outputs": [
        {
          "data": {
            "image/png": "[encoded data removed]",
            "text/plain": [
              "<Figure size 1200x600 with 1 Axes>"
            ]
          },
          "metadata": {},
          "output_type": "display_data"
        }
      ],
      "source": [
        "# Use plot styling from seaborn.\n",
        "sns.set(style='darkgrid')\n",
        "\n",
        "# Increase the plot size and font size.\n",
        "sns.set(font_scale=1.5)\n",
        "plt.rcParams[\"figure.figsize\"] = (12,6)\n",
        "\n",
        "# Plot the learning curve.\n",
        "plt.plot(df_stats['Training Loss'], 'b-o', label=\"Training\")\n",
        "plt.plot(df_stats['Valid. Loss'], 'g-o', label=\"Validation\")\n",
        "\n",
        "# Label the plot.\n",
        "plt.title(\"Training & Validation Loss\")\n",
        "plt.xlabel(\"Epoch\")\n",
        "plt.ylabel(\"Loss\")\n",
        "plt.legend()\n",
        "plt.xticks([1, 2, 3, 4])\n",
        "\n",
        "plt.show()"
      ]
    },
    {
      "cell_type": "markdown",
      "metadata": {
        "id": "GfjYoa6WmkN6"
      },
      "source": [
        "# Display Model Info"
      ]
    },
    {
      "cell_type": "code",
      "execution_count": 23,
      "metadata": {
        "colab": {
          "base_uri": "https://localhost:8080/"
        },
        "id": "8PIiVlDYCtSq",
        "outputId": "c402b60c-030f-4447-a847-94f353755cde"
      },
      "outputs": [
        {
          "name": "stdout",
          "output_type": "stream",
          "text": [
            "The model has 388 different named parameters.\n",
            "\n",
            "==== Embedding Layer ====\n",
            "\n",
            "biogpt.embed_tokens.weight                              (42387, 1024)\n",
            "biogpt.embed_positions.weight                           (1026, 1024)\n",
            "\n",
            "==== First Transformer ====\n",
            "\n",
            "biogpt.layers.0.self_attn.k_proj.weight                 (1024, 1024)\n",
            "biogpt.layers.0.self_attn.k_proj.bias                        (1024,)\n",
            "biogpt.layers.0.self_attn.v_proj.weight                 (1024, 1024)\n",
            "biogpt.layers.0.self_attn.v_proj.bias                        (1024,)\n",
            "biogpt.layers.0.self_attn.q_proj.weight                 (1024, 1024)\n",
            "biogpt.layers.0.self_attn.q_proj.bias                        (1024,)\n",
            "biogpt.layers.0.self_attn.out_proj.weight               (1024, 1024)\n",
            "biogpt.layers.0.self_attn.out_proj.bias                      (1024,)\n",
            "biogpt.layers.0.self_attn_layer_norm.weight                  (1024,)\n",
            "biogpt.layers.0.self_attn_layer_norm.bias                    (1024,)\n",
            "biogpt.layers.0.fc1.weight                              (4096, 1024)\n",
            "biogpt.layers.0.fc1.bias                                     (4096,)\n",
            "\n",
            "==== Output Layer ====\n",
            "\n",
            "biogpt.layer_norm.weight                                     (1024,)\n",
            "biogpt.layer_norm.bias                                       (1024,)\n"
          ]
        }
      ],
      "source": [
        "# Get all of the model's parameters as a list of tuples.\n",
        "params = list(model.named_parameters())\n",
        "\n",
        "print('The model has {:} different named parameters.\\n'.format(len(params)))\n",
        "\n",
        "print('==== Embedding Layer ====\\n')\n",
        "\n",
        "for p in params[0:2]:\n",
        "    print(\"{:<55} {:>12}\".format(p[0], str(tuple(p[1].size()))))\n",
        "\n",
        "print('\\n==== First Transformer ====\\n')\n",
        "\n",
        "for p in params[2:14]:\n",
        "    print(\"{:<55} {:>12}\".format(p[0], str(tuple(p[1].size()))))\n",
        "\n",
        "print('\\n==== Output Layer ====\\n')\n",
        "\n",
        "for p in params[-2:]:\n",
        "    print(\"{:<55} {:>12}\".format(p[0], str(tuple(p[1].size()))))"
      ]
    },
    {
      "cell_type": "markdown",
      "metadata": {
        "id": "q2079Qyn8Mt8"
      },
      "source": [
        "# Save Fine-Tuned Model\n"
      ]
    },
    {
      "cell_type": "code",
      "execution_count": 24,
      "metadata": {
        "colab": {
          "base_uri": "https://localhost:8080/"
        },
        "id": "6ulTWaOr8QNY",
        "outputId": "26a2b844-c15b-4bd6-c49e-3e7f5ef749f3"
      },
      "outputs": [
        {
          "name": "stdout",
          "output_type": "stream",
          "text": [
            "Saving model to ./model_save_Bio/\n"
          ]
        },
        {
          "data": {
            "text/plain": [
              "('./model_save_Bio/tokenizer_config.json',\n",
              " './model_save_Bio/special_tokens_map.json',\n",
              " './model_save_Bio/vocab.json',\n",
              " './model_save_Bio/merges.txt',\n",
              " './model_save_Bio/added_tokens.json')"
            ]
          },
          "execution_count": 24,
          "metadata": {},
          "output_type": "execute_result"
        }
      ],
      "source": [
        "# Saving best-practices: if you use defaults names for the model, you can reload it using from_pretrained()\n",
        "\n",
        "output_dir = './model_save_Bio/'\n",
        "\n",
        "# Create output directory if needed\n",
        "if not os.path.exists(output_dir):\n",
        "    os.makedirs(output_dir)\n",
        "\n",
        "print(\"Saving model to %s\" % output_dir)\n",
        "\n",
        "model_to_save = model.module if hasattr(model, 'module') else model  # Take care of distributed/parallel training\n",
        "model_to_save.save_pretrained(output_dir)\n",
        "tokenizer.save_pretrained(output_dir)\n",
        "\n"
      ]
    },
    {
      "cell_type": "markdown",
      "metadata": {
        "id": "ZLf6rbRglYhQ"
      },
      "source": [
        "# Generate Text"
      ]
    },
    {
      "cell_type": "code",
      "execution_count": 28,
      "metadata": {
        "colab": {
          "base_uri": "https://localhost:8080/"
        },
        "id": "v4XhewaV93-_",
        "outputId": "04c7eb96-3705-4548-dd9f-fa6b5e9256b6"
      },
      "outputs": [
        {
          "name": "stdout",
          "output_type": "stream",
          "text": [
            "tensor([[    2, 42384,    43, 10583,  8081,    43,    20]], device='cuda:0')\n",
            "0: = Soap =: In the media, the Soap is a commercial enterprise in the United States. When viewed by figures from real-world affairs, the company was marketed as an immense commercial enterprise. The company continued in this enterprise until 2002, when it was recognized as the nation's main executive power and commentator of the National Economy. Using sliced splinter cut, the company penetrated and joined the development of railway hotels. Soap operatives later adapted the idea of the term Spc to avoid similar problems. In one version of the film, the producers made more than 18% of the production budget of traditional gender-owned hotels, up to 17%, the same year that its predecessor, Will Afanasieff, was entirely young, and compared the film with overall rigged ownership and office to more revenue, was more polished. In 2008, the production team attempted to achieve a youthful view of proposed targets, reducing the budget to 14%, more than what would have been a incremental mistake. The complex of ideas for the early films encouraged producers to create more avant; they aimed to win the strategy well, whereby the whole premise was new and more text than the real-life manga. The reviewer used an entirely new design for the production, but the designer felt that his focus was reduced to adjust its guidance. Her concern that the drawing and funding of watching these characters frequently changed more widely. In an interview, the Los Angeles Times reported that \"Soap is a young woman who took the alone\" (Before the Spc, the Soap \") and she hoped that a younger writer would be involved. interest Soap opera Soap incursions were equally watered during Soap\n",
            "\n",
            "\n",
            "1: = Soap =: Soap (SO 16) is a species of small-shaft single-shaft, common name, introduced to the British mythological Survey of India in 1874. In the Southern Way, the relative wing and tail of the adult male are identical and similar. The pelvic fins are also said to be the central Powers' bodies. Young are to a length of 2 ft (1.8 m) and have a weight of about 30 inches (1.4 kg). They have a cruising radius around 4.5 feet (2.1 m); fusion of fins such as the male and female would have been given a length of 3 ft (3.7 m), and a weight of 12 inches (5.2 kg). It was named after Henry Gray, an experienced fish, historically important to the British economy. It has fairly large, shallow, shallow, shallow, shallow, single-tail fins, a convex face, and large, fan-shaped tail fins. The tail is best-scared, deeper and lacks a ring, but lacks a ring and lacks the barbules of other common ingredients. However, in view of the size and appearance of the male, the longer-standing and narrower of the spillways and tail are reduced. The pectoral fins are comparatively small and hawn-shaped, with leather, brown and often without oil. The backbone and tail are relatively short and oblong, even at the shoulders. The tail is well-muscled and bears a skirt leading to speculation about the shape of the tail; there is no overlap between the range of the fins with the sailing spillway.\n",
            "\n",
            "\n",
            "2: = Soap =: Soviet cruiser Krasnyi Kavkaz (1913 1913) was a Soviet cruiser of the 4th Marine Division, the ninth Naval Estimates put in Durand, Nikolayev, the second class built for Germany. Based on the principles of the Navy's pre-war officers, she was assigned to the 4th Marine Division before being commissioned by the end of the second year. Royalist, Austrian, and Ottoman families set up to destroy the kingship because of an armistice being overwhelmed by reckoning. Her most armistice class was the Russian Navy' s Chetnik tainers in 1913 and she composed mainly of the armored cruisers, ragoons, torpedo boats, ammunition, and badly damaged inshore flotillas. She carried ano-Luviidae, hulls, weight, and ammunition. She also carried cargoes and other means of transport. At first she was considered as part of the Allied invasion of northern Italy in 1916. She then operated in the raid on the eve of World War II and returned to the Pacific coast in 1918 and 1918 before being commissioned by the Active State in 1940. She took part in another campaign in the same year, to seek to destroy a portion of her internal fur trade that the Soviet would not be able to advance any of the captured vessels. However, the Soviet leadership was instead strongly influenced by her proximity to and outside the military.\n",
            "\n",
            "\n"
          ]
        }
      ],
      "source": [
        "model.eval()\n",
        "\n",
        "prompt = \"<|startoftext|> = Soap = :\"\n",
        "\n",
        "generated = torch.tensor(tokenizer.encode(prompt)).unsqueeze(0)\n",
        "generated = generated.to(device)\n",
        "\n",
        "print(generated)\n",
        "\n",
        "sample_outputs = model.generate(\n",
        "                                generated,\n",
        "                                do_sample=True,\n",
        "                                top_k=1000,\n",
        "                                max_length = 1000,\n",
        "                                top_p=2,\n",
        "                                num_return_sequences=3\n",
        "                                )\n",
        "\n",
        "for i, sample_output in enumerate(sample_outputs):\n",
        "  print(\"{}: {}\\n\\n\".format(i, tokenizer.decode(sample_output, skip_special_tokens=True)))"
      ]
    },
    {
      "cell_type": "markdown",
      "metadata": {
        "id": "uonR10qh0ObY"
      },
      "source": [
        "PPL"
      ]
    },
    {
      "cell_type": "code",
      "execution_count": 26,
      "metadata": {
        "id": "EiuDUKbew-Mf"
      },
      "outputs": [],
      "source": [
        "max_length = model.config.max_position_embeddings\n",
        "stride = 512\n",
        "\n",
        "def ppl(model, input_ids_all, stride):\n",
        "  nlls = []\n",
        "  for i in tqdm(range(0, input_ids_all.size(1), stride)):\n",
        "      begin_loc = max(i + stride - max_length, 0)\n",
        "      end_loc = min(i + stride, input_ids_all.size(1))\n",
        "      trg_len = end_loc - i  # may be different from stride on last loop\n",
        "      input_ids = input_ids_all[:, begin_loc:end_loc].to(\"cuda:0\")\n",
        "      target_ids = input_ids.clone()\n",
        "      target_ids[:, :-trg_len] = -100\n",
        "\n",
        "      with torch.no_grad():\n",
        "          outputs = model(input_ids, labels=target_ids)\n",
        "          neg_log_likelihood = outputs[0] * trg_len\n",
        "\n",
        "      nlls.append(neg_log_likelihood)\n",
        "\n",
        "  ppl = torch.exp(torch.stack(nlls).sum() / end_loc)\n",
        "  return ppl"
      ]
    },
    {
      "cell_type": "code",
      "execution_count": 27,
      "metadata": {
        "colab": {
          "base_uri": "https://localhost:8080/"
        },
        "id": "1y9wS12PxExq",
        "outputId": "1a5a6720-6dd1-4518-a721-ef59544defe6"
      },
      "outputs": [
        {
          "name": "stderr",
          "output_type": "stream",
          "text": [
            "Token indices sequence length is longer than the specified maximum sequence length for this model (310653 > 1024). Running this sequence through the model will result in indexing errors\n",
            "100%|██████████| 607/607 [01:22<00:00,  7.39it/s]\n"
          ]
        },
        {
          "data": {
            "text/plain": [
              "tensor(451.4723, device='cuda:0')"
            ]
          },
          "execution_count": 27,
          "metadata": {},
          "output_type": "execute_result"
        }
      ],
      "source": [
        "encodings = tokenizer(\"\\n\\n\".join(dealt_test), return_tensors=\"pt\")\n",
        "ppl(model, encodings.input_ids, stride)"
      ]
    }
  ],
  "metadata": {
    "accelerator": "GPU",
    "colab": {
      "gpuType": "T4",
      "machine_shape": "hm",
      "provenance": []
    },
    "kernelspec": {
      "display_name": "Python 3",
      "name": "python3"
    },
    "language_info": {
      "codemirror_mode": {
        "name": "ipython",
        "version": 3
      },
      "file_extension": ".py",
      "mimetype": "text/x-python",
      "name": "python",
      "nbconvert_exporter": "python",
      "pygments_lexer": "ipython3",
      "version": "3.10.6"
    },
    "widgets": {
      "application/vnd.jupyter.widget-state+json": {
        "04dfd067ee0642a9bcbf1f9f7ce708d5": {
          "model_module": "@jupyter-widgets/controls",
          "model_module_version": "1.5.0",
          "model_name": "ProgressStyleModel",
          "state": {
            "_model_module": "@jupyter-widgets/controls",
            "_model_module_version": "1.5.0",
            "_model_name": "ProgressStyleModel",
            "_view_count": null,
            "_view_module": "@jupyter-widgets/base",
            "_view_module_version": "1.2.0",
            "_view_name": "StyleView",
            "bar_color": null,
            "description_width": ""
          }
        },
        "1361aad217e14124a4a8ab597306ef74": {
          "model_module": "@jupyter-widgets/base",
          "model_module_version": "1.2.0",
          "model_name": "LayoutModel",
          "state": {
            "_model_module": "@jupyter-widgets/base",
            "_model_module_version": "1.2.0",
            "_model_name": "LayoutModel",
            "_view_count": null,
            "_view_module": "@jupyter-widgets/base",
            "_view_module_version": "1.2.0",
            "_view_name": "LayoutView",
            "align_content": null,
            "align_items": null,
            "align_self": null,
            "border": null,
            "bottom": null,
            "display": null,
            "flex": null,
            "flex_flow": null,
            "grid_area": null,
            "grid_auto_columns": null,
            "grid_auto_flow": null,
            "grid_auto_rows": null,
            "grid_column": null,
            "grid_gap": null,
            "grid_row": null,
            "grid_template_areas": null,
            "grid_template_columns": null,
            "grid_template_rows": null,
            "height": null,
            "justify_content": null,
            "justify_items": null,
            "left": null,
            "margin": null,
            "max_height": null,
            "max_width": null,
            "min_height": null,
            "min_width": null,
            "object_fit": null,
            "object_position": null,
            "order": null,
            "overflow": null,
            "overflow_x": null,
            "overflow_y": null,
            "padding": null,
            "right": null,
            "top": null,
            "visibility": null,
            "width": null
          }
        },
        "212a489e9b2c4e5d91da559c04f05967": {
          "model_module": "@jupyter-widgets/base",
          "model_module_version": "1.2.0",
          "model_name": "LayoutModel",
          "state": {
            "_model_module": "@jupyter-widgets/base",
            "_model_module_version": "1.2.0",
            "_model_name": "LayoutModel",
            "_view_count": null,
            "_view_module": "@jupyter-widgets/base",
            "_view_module_version": "1.2.0",
            "_view_name": "LayoutView",
            "align_content": null,
            "align_items": null,
            "align_self": null,
            "border": null,
            "bottom": null,
            "display": null,
            "flex": null,
            "flex_flow": null,
            "grid_area": null,
            "grid_auto_columns": null,
            "grid_auto_flow": null,
            "grid_auto_rows": null,
            "grid_column": null,
            "grid_gap": null,
            "grid_row": null,
            "grid_template_areas": null,
            "grid_template_columns": null,
            "grid_template_rows": null,
            "height": null,
            "justify_content": null,
            "justify_items": null,
            "left": null,
            "margin": null,
            "max_height": null,
            "max_width": null,
            "min_height": null,
            "min_width": null,
            "object_fit": null,
            "object_position": null,
            "order": null,
            "overflow": null,
            "overflow_x": null,
            "overflow_y": null,
            "padding": null,
            "right": null,
            "top": null,
            "visibility": null,
            "width": null
          }
        },
        "41ac776f86744347a19e1d2f8dcd9d04": {
          "model_module": "@jupyter-widgets/controls",
          "model_module_version": "1.5.0",
          "model_name": "HTMLModel",
          "state": {
            "_dom_classes": [],
            "_model_module": "@jupyter-widgets/controls",
            "_model_module_version": "1.5.0",
            "_model_name": "HTMLModel",
            "_view_count": null,
            "_view_module": "@jupyter-widgets/controls",
            "_view_module_version": "1.5.0",
            "_view_name": "HTMLView",
            "description": "",
            "description_tooltip": null,
            "layout": "IPY_MODEL_be81af148daa4112899a767306acfeb1",
            "placeholder": "​",
            "style": "IPY_MODEL_c0a9df8bda134e3e96ad8624f6e0018d",
            "value": " 1.56G/1.56G [01:18&lt;00:00, 19.1MB/s]"
          }
        },
        "4e3190e437724399b3a309c38912f9fc": {
          "model_module": "@jupyter-widgets/controls",
          "model_module_version": "1.5.0",
          "model_name": "HTMLModel",
          "state": {
            "_dom_classes": [],
            "_model_module": "@jupyter-widgets/controls",
            "_model_module_version": "1.5.0",
            "_model_name": "HTMLModel",
            "_view_count": null,
            "_view_module": "@jupyter-widgets/controls",
            "_view_module_version": "1.5.0",
            "_view_name": "HTMLView",
            "description": "",
            "description_tooltip": null,
            "layout": "IPY_MODEL_68384aad07c94864a5ff5ef7d1f5b35b",
            "placeholder": "​",
            "style": "IPY_MODEL_8de0fab37a9946fca1d7c513ea8e6824",
            "value": "pytorch_model.bin: 100%"
          }
        },
        "68384aad07c94864a5ff5ef7d1f5b35b": {
          "model_module": "@jupyter-widgets/base",
          "model_module_version": "1.2.0",
          "model_name": "LayoutModel",
          "state": {
            "_model_module": "@jupyter-widgets/base",
            "_model_module_version": "1.2.0",
            "_model_name": "LayoutModel",
            "_view_count": null,
            "_view_module": "@jupyter-widgets/base",
            "_view_module_version": "1.2.0",
            "_view_name": "LayoutView",
            "align_content": null,
            "align_items": null,
            "align_self": null,
            "border": null,
            "bottom": null,
            "display": null,
            "flex": null,
            "flex_flow": null,
            "grid_area": null,
            "grid_auto_columns": null,
            "grid_auto_flow": null,
            "grid_auto_rows": null,
            "grid_column": null,
            "grid_gap": null,
            "grid_row": null,
            "grid_template_areas": null,
            "grid_template_columns": null,
            "grid_template_rows": null,
            "height": null,
            "justify_content": null,
            "justify_items": null,
            "left": null,
            "margin": null,
            "max_height": null,
            "max_width": null,
            "min_height": null,
            "min_width": null,
            "object_fit": null,
            "object_position": null,
            "order": null,
            "overflow": null,
            "overflow_x": null,
            "overflow_y": null,
            "padding": null,
            "right": null,
            "top": null,
            "visibility": null,
            "width": null
          }
        },
        "6b7f9a0b506f4e7995b29c903d4b328d": {
          "model_module": "@jupyter-widgets/controls",
          "model_module_version": "1.5.0",
          "model_name": "FloatProgressModel",
          "state": {
            "_dom_classes": [],
            "_model_module": "@jupyter-widgets/controls",
            "_model_module_version": "1.5.0",
            "_model_name": "FloatProgressModel",
            "_view_count": null,
            "_view_module": "@jupyter-widgets/controls",
            "_view_module_version": "1.5.0",
            "_view_name": "ProgressView",
            "bar_style": "success",
            "description": "",
            "description_tooltip": null,
            "layout": "IPY_MODEL_212a489e9b2c4e5d91da559c04f05967",
            "max": 1560781537,
            "min": 0,
            "orientation": "horizontal",
            "style": "IPY_MODEL_04dfd067ee0642a9bcbf1f9f7ce708d5",
            "value": 1560781537
          }
        },
        "8de0fab37a9946fca1d7c513ea8e6824": {
          "model_module": "@jupyter-widgets/controls",
          "model_module_version": "1.5.0",
          "model_name": "DescriptionStyleModel",
          "state": {
            "_model_module": "@jupyter-widgets/controls",
            "_model_module_version": "1.5.0",
            "_model_name": "DescriptionStyleModel",
            "_view_count": null,
            "_view_module": "@jupyter-widgets/base",
            "_view_module_version": "1.2.0",
            "_view_name": "StyleView",
            "description_width": ""
          }
        },
        "9ca38f357aaf4df885ba20a91230db01": {
          "model_module": "@jupyter-widgets/controls",
          "model_module_version": "1.5.0",
          "model_name": "HBoxModel",
          "state": {
            "_dom_classes": [],
            "_model_module": "@jupyter-widgets/controls",
            "_model_module_version": "1.5.0",
            "_model_name": "HBoxModel",
            "_view_count": null,
            "_view_module": "@jupyter-widgets/controls",
            "_view_module_version": "1.5.0",
            "_view_name": "HBoxView",
            "box_style": "",
            "children": [
              "IPY_MODEL_4e3190e437724399b3a309c38912f9fc",
              "IPY_MODEL_6b7f9a0b506f4e7995b29c903d4b328d",
              "IPY_MODEL_41ac776f86744347a19e1d2f8dcd9d04"
            ],
            "layout": "IPY_MODEL_1361aad217e14124a4a8ab597306ef74"
          }
        },
        "be81af148daa4112899a767306acfeb1": {
          "model_module": "@jupyter-widgets/base",
          "model_module_version": "1.2.0",
          "model_name": "LayoutModel",
          "state": {
            "_model_module": "@jupyter-widgets/base",
            "_model_module_version": "1.2.0",
            "_model_name": "LayoutModel",
            "_view_count": null,
            "_view_module": "@jupyter-widgets/base",
            "_view_module_version": "1.2.0",
            "_view_name": "LayoutView",
            "align_content": null,
            "align_items": null,
            "align_self": null,
            "border": null,
            "bottom": null,
            "display": null,
            "flex": null,
            "flex_flow": null,
            "grid_area": null,
            "grid_auto_columns": null,
            "grid_auto_flow": null,
            "grid_auto_rows": null,
            "grid_column": null,
            "grid_gap": null,
            "grid_row": null,
            "grid_template_areas": null,
            "grid_template_columns": null,
            "grid_template_rows": null,
            "height": null,
            "justify_content": null,
            "justify_items": null,
            "left": null,
            "margin": null,
            "max_height": null,
            "max_width": null,
            "min_height": null,
            "min_width": null,
            "object_fit": null,
            "object_position": null,
            "order": null,
            "overflow": null,
            "overflow_x": null,
            "overflow_y": null,
            "padding": null,
            "right": null,
            "top": null,
            "visibility": null,
            "width": null
          }
        },
        "c0a9df8bda134e3e96ad8624f6e0018d": {
          "model_module": "@jupyter-widgets/controls",
          "model_module_version": "1.5.0",
          "model_name": "DescriptionStyleModel",
          "state": {
            "_model_module": "@jupyter-widgets/controls",
            "_model_module_version": "1.5.0",
            "_model_name": "DescriptionStyleModel",
            "_view_count": null,
            "_view_module": "@jupyter-widgets/base",
            "_view_module_version": "1.2.0",
            "_view_name": "StyleView",
            "description_width": ""
          }
        }
      }
    }
  },
  "nbformat": 4,
  "nbformat_minor": 0
}
